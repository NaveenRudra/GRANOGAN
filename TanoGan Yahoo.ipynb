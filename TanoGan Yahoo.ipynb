{
 "cells": [
  {
   "cell_type": "code",
   "execution_count": 55,
   "id": "b9b31f87-c6ed-456b-ac94-f6b2ee438f8a",
   "metadata": {},
   "outputs": [],
   "source": [
    "import torch\n",
    "import torch.nn as nn \n",
    "import pandas as pd\n",
    "import numpy as np\n",
    "import time\n",
    "import torch.backends.cudnn as cudnn\n",
    "from torch.autograd import Variable\n",
    "import datetime"
   ]
  },
  {
   "cell_type": "code",
   "execution_count": 56,
   "id": "741e2ec2-10ea-4646-978d-b89814b7e4bc",
   "metadata": {},
   "outputs": [],
   "source": [
    "from src.algorithms.TanoGan import TanoGan\n",
    "from src.model.modelTanoGan import *\n",
    "from src.utils.util import *\n",
    "from src.dataset.yahoo import YahooDataset\n",
    "from src.model.modelvae import *"
   ]
  },
  {
   "cell_type": "code",
   "execution_count": 57,
   "id": "c3df0354-1908-4c54-b779-038320a9afec",
   "metadata": {},
   "outputs": [
    {
     "name": "stdout",
     "output_type": "stream",
     "text": [
      "02:01:36\n"
     ]
    }
   ],
   "source": [
    "#This is the beginning of programm\n",
    "t = time.localtime()\n",
    "current_time = time.strftime(\"%H:%M:%S\", t)\n",
    "print(current_time)"
   ]
  },
  {
   "cell_type": "markdown",
   "id": "3f223b89-654b-468d-86ce-421a53dedd42",
   "metadata": {},
   "source": [
    "<h4>Initializing Dataset</h4>"
   ]
  },
  {
   "cell_type": "code",
   "execution_count": 58,
   "id": "fd5fa31f-5249-4835-8d6c-6990f248664d",
   "metadata": {},
   "outputs": [],
   "source": [
    "class ArgsTrn:\n",
    "    workers=4\n",
    "    batch_size=32\n",
    "    epochs=5\n",
    "    lr=0.0002\n",
    "    cuda = True\n",
    "    manualSeed=2\n",
    "    mean=0\n",
    "    std=0.1\n",
    "    \n",
    "opt_trn=ArgsTrn()\n",
    "torch.manual_seed(opt_trn.manualSeed)\n",
    "\n",
    "\n",
    "class DataSettings:\n",
    "    def __init__(self):\n",
    "        \n",
    "        self.data_folder_path='/home/jupyter/GRANOGAN-IISC/data/yahoo/A1Benchmark/'\n",
    "        self.train = True\n",
    "        self.window_length = 60\n",
    "data_settings = DataSettings()"
   ]
  },
  {
   "cell_type": "code",
   "execution_count": 59,
   "id": "b7a57c49-fd47-4f1f-b3b1-b3ab63ed0840",
   "metadata": {},
   "outputs": [],
   "source": [
    "# define dataset object and data loader object for NAB dataset\n",
    "dataset = YahooDataset(data_settings=data_settings)\n",
    "dataloader = torch.utils.data.DataLoader(dataset, batch_size=opt_trn.batch_size,\n",
    "                                         shuffle=True, num_workers=int(opt_trn.workers))\n",
    "seq_len = dataset.window_length # sequence length is equal to the window length\n",
    "in_dim = dataset.n_feature # input dimension is same as number of feature\n",
    "n_features=dataset.x.shape[2]\n",
    "sequences=[x for i, (x,y) in enumerate(dataloader, 0)]"
   ]
  },
  {
   "cell_type": "code",
   "execution_count": 60,
   "id": "d0daad28-b75a-4859-8731-55c6f5aa4a59",
   "metadata": {},
   "outputs": [
    {
     "name": "stdout",
     "output_type": "stream",
     "text": [
      "cuda\n"
     ]
    }
   ],
   "source": [
    "device = torch.device(\"cuda\" if torch.cuda.is_available() else \"cpu\")\n",
    "print(device)"
   ]
  },
  {
   "cell_type": "code",
   "execution_count": 61,
   "id": "8e2fa4d7-4612-47a2-b796-e077a72de461",
   "metadata": {},
   "outputs": [],
   "source": [
    "dataset.x.shape\n",
    "embedding_dim=16"
   ]
  },
  {
   "cell_type": "code",
   "execution_count": 62,
   "id": "fa3fbdf9-26cd-4f08-bc17-047f84387554",
   "metadata": {},
   "outputs": [],
   "source": [
    "tanoGan=TanoGan(device=device,opt_trn=opt_trn,windows_length=seq_len,n_features=n_features,embedding_dim=embedding_dim)"
   ]
  },
  {
   "cell_type": "code",
   "execution_count": 63,
   "id": "c7bbca24-6462-4613-a5d5-f360271dbf1a",
   "metadata": {},
   "outputs": [
    {
     "name": "stderr",
     "output_type": "stream",
     "text": [
      "/home/jupyter/src/algorithms/TanoGan.py:72: UserWarning: nn.init.normal is now deprecated in favor of nn.init.normal_.\n",
      "  noise = Variable(init.normal(torch.Tensor(batch_size,seq_len,self.in_dim),mean=0,std=0.1)).to(self.device)\n",
      "/home/jupyter/src/algorithms/TanoGan.py:88: UserWarning: nn.init.normal is now deprecated in favor of nn.init.normal_.\n",
      "  noise = Variable(init.normal(torch.Tensor(batch_size,seq_len,self.in_dim),mean=0,std=0.1)).to(self.device)\n"
     ]
    },
    {
     "name": "stdout",
     "output_type": "stream",
     "text": [
      "Completed epoch 0\n",
      "Completed epoch 1\n",
      "Completed epoch 2\n",
      "Completed epoch 3\n",
      "Completed epoch 4\n"
     ]
    }
   ],
   "source": [
    "trained_D,trained_G=tanoGan.train_TanoGAN(sequences)"
   ]
  },
  {
   "cell_type": "code",
   "execution_count": 64,
   "id": "419972ca-cde2-44bc-8734-cfc439ee3b18",
   "metadata": {},
   "outputs": [],
   "source": [
    "PATH_D='/home/jupyter/GRANOGAN-IISC/src/saved_models/tanogan/yahoo/dicriminator.pkl'\n",
    "PATH_G='/home/jupyter/GRANOGAN-IISC/src/saved_models/tanogan/yahoo/generator.pkl'"
   ]
  },
  {
   "cell_type": "code",
   "execution_count": 65,
   "id": "4a349c11-863c-4867-9acd-92454819cede",
   "metadata": {},
   "outputs": [],
   "source": [
    "torch.save(trained_D.module.state_dict(), PATH_D)\n",
    "torch.save(trained_G.module.state_dict(), PATH_G)"
   ]
  },
  {
   "cell_type": "code",
   "execution_count": 66,
   "id": "7601a849-dad8-41c8-b736-c6cca36b86e4",
   "metadata": {},
   "outputs": [],
   "source": [
    "state_dict = torch.load(PATH_D)\n",
    "trained_D=LSTMDiscriminator(in_dim=in_dim,device=device)\n",
    "trained_D=nn.DataParallel(trained_D)\n",
    "trained_D.to(device)\n",
    "trained_D=tanoGan.load_model(state_dict,trained_D)\n",
    "\n",
    "state_dict = torch.load(PATH_G)\n",
    "trained_G=LSTMGenerator(in_dim=in_dim, out_dim=in_dim,device=device)\n",
    "trained_G=nn.DataParallel(trained_G)\n",
    "trained_G.to(device)\n",
    "trained_G=tanoGan.load_model(state_dict,trained_G)"
   ]
  },
  {
   "cell_type": "markdown",
   "id": "b3abdf36-2471-4202-b283-9026a7ddb4b1",
   "metadata": {},
   "source": [
    "<h4>Loading back the saved models</h4>"
   ]
  },
  {
   "cell_type": "code",
   "execution_count": 67,
   "id": "36b77423-806f-4198-b5a8-03895a1ab56b",
   "metadata": {},
   "outputs": [],
   "source": [
    "tanoGan.intilialize_D(trained_D)\n",
    "tanoGan.intilialize_G(trained_G)"
   ]
  },
  {
   "cell_type": "markdown",
   "id": "7344936e-a25f-43e9-aa92-790780ee9aa2",
   "metadata": {},
   "source": [
    "<h2>Test Data</h2>\n"
   ]
  },
  {
   "cell_type": "code",
   "execution_count": 68,
   "id": "fb984463-5732-41e2-9089-d29330bc6961",
   "metadata": {},
   "outputs": [],
   "source": [
    "class ArgsTest:\n",
    "    workers = 1\n",
    "    batch_size = 1\n",
    "    \n",
    "opt_test=ArgsTest()\n",
    "\n",
    "\n",
    "class TestDataSettings:\n",
    "    \n",
    "    def __init__(self):\n",
    "        self.data_folder_path='/home/jupyter/GRANOGAN-IISC/data/yahoo/A1Benchmark/'\n",
    "        self.train = False\n",
    "        self.window_length = 60      \n",
    "        \n",
    "test_data_settings = TestDataSettings()"
   ]
  },
  {
   "cell_type": "code",
   "execution_count": 69,
   "id": "88848d05-0a37-464b-b8f8-42c9e583aec5",
   "metadata": {},
   "outputs": [],
   "source": [
    "# define dataset object and data loader object in evaluation mood for NAB dataset\n",
    "from mlutils import dataset\n",
    "test_dataset = YahooDataset(test_data_settings)\n",
    "test_dataloader = torch.utils.data.DataLoader(test_dataset, batch_size=opt_test.batch_size, \n",
    "                                         shuffle=False, num_workers=int(opt_test.workers))\n",
    "\n",
    "test_dataset.x.shape, test_dataset.y.shape, test_dataset.data_len # check the dataset shape\n",
    "\n",
    "\n",
    "test_sequences=[x for i, (x,y) in enumerate(test_dataloader, 0)]"
   ]
  },
  {
   "cell_type": "code",
   "execution_count": 70,
   "id": "7a1f5727-0077-4e1d-8e3c-b1da0a0e3db7",
   "metadata": {},
   "outputs": [
    {
     "name": "stderr",
     "output_type": "stream",
     "text": [
      "/home/jupyter/src/algorithms/TanoGan.py:118: UserWarning: nn.init.normal is now deprecated in favor of nn.init.normal_.\n",
      "  z = Variable(init.normal(torch.zeros(batch_size,\n",
      "/libraries/Default_env_55311/lib/python3.8/site-packages/torch/nn/parallel/comm.py:231: UserWarning: Using -1 to represent CPU tensor is deprecated. Please use a device object or string instead, e.g., \"cpu\".\n",
      "  warnings.warn(\n"
     ]
    }
   ],
   "source": [
    "losses=tanoGan.predict_loss(test_sequences,opt_test.batch_size)"
   ]
  },
  {
   "cell_type": "code",
   "execution_count": 71,
   "id": "1ff62807-40cc-4d3d-8b8a-0ec2a1a5a9c9",
   "metadata": {},
   "outputs": [],
   "source": [
    "import matplotlib.pyplot as plt\n",
    "import seaborn as sns\n"
   ]
  },
  {
   "cell_type": "code",
   "execution_count": 72,
   "id": "d2f379fc-0ba8-47da-a128-24875564e1e0",
   "metadata": {},
   "outputs": [
    {
     "data": {
      "image/png": "[encoded data removed]",
      "text/plain": [
       "<Figure size 1280x720 with 1 Axes>"
      ]
     },
     "metadata": {
      "needs_background": "light"
     },
     "output_type": "display_data"
    }
   ],
   "source": [
    "\n",
    "plt.figure(figsize=(16,9), dpi=80)\n",
    "plt.title('Loss Distribution', fontsize=16)\n",
    "sns.histplot([loss.item()/60 for loss in losses], bins = 20, kde= False, color = 'blue');\n",
    "#sns.distplot(losses, bins = 20, kde= True, color = 'blue');"
   ]
  },
  {
   "cell_type": "code",
   "execution_count": 82,
   "id": "ab94cf6d-db4d-4ba0-9c41-811cf763374b",
   "metadata": {},
   "outputs": [
    {
     "data": {
      "image/png": "[encoded data removed]",
      "text/plain": [
       "<Figure size 432x288 with 1 Axes>"
      ]
     },
     "metadata": {
      "needs_background": "light"
     },
     "output_type": "display_data"
    }
   ],
   "source": [
    "THRESHOLD =0.434\n",
    "\n",
    "test_score_df = pd.DataFrame(index=range(len(losses)))\n",
    "test_score_df['loss'] = [loss.item()/60 for loss in losses]\n",
    "test_score_df['y'] = test_dataset.y\n",
    "test_score_df['threshold'] = THRESHOLD\n",
    "test_score_df['anomaly'] = test_score_df.loss > test_score_df.threshold\n",
    "test_score_df['t'] = [x[59].item() for x in test_dataset.x]\n",
    "\n",
    "plt.plot( test_score_df.loss, label='loss')\n",
    "plt.plot( test_score_df.threshold, label='threshold')\n",
    "#plt.plot( test_score_df.y, label='y')\n",
    "plt.xticks(rotation=25)\n",
    "plt.legend();"
   ]
  },
  {
   "cell_type": "code",
   "execution_count": 83,
   "id": "595f4eec-ce09-4757-8793-f72fd6bedbf9",
   "metadata": {},
   "outputs": [],
   "source": [
    "import numpy as np\n",
    "actual,predicted=improve_detection(test_score_df)"
   ]
  },
  {
   "cell_type": "code",
   "execution_count": 81,
   "id": "af5b0a1a-934a-4bdc-87fc-dc9268474f7f",
   "metadata": {},
   "outputs": [
    {
     "name": "stdout",
     "output_type": "stream",
     "text": [
      "True Positive\t 1\n",
      "True Negative\t 12\n",
      "False Positive\t 11\n",
      "False Negative\t 0\n",
      "Accuracy\t 0.5416666666666666\n",
      "Precision\t 0.08333333333333333\n",
      "Recall\t 1.0\n",
      "f-measure\t 0.15384615384615385\n",
      "cohen_kappa_score\t 0.08333333333333337\n",
      "auc\t 0.7608695652173914\n",
      "roc_auc\t 0.7608695652173914\n"
     ]
    }
   ],
   "source": [
    "\n",
    "from sklearn.metrics import cohen_kappa_score\n",
    "from sklearn.metrics import roc_curve, auc, roc_auc_score\n",
    "\n",
    "predicted = np.array(predicted)\n",
    "actual = np.array(actual)\n",
    "\n",
    "print_scores(predicted,actual)"
   ]
  },
  {
   "cell_type": "code",
   "execution_count": null,
   "id": "949d78c2-5740-4a98-8104-990b73a9b51f",
   "metadata": {},
   "outputs": [],
   "source": []
  }
 ],
 "metadata": {
  "kernelspec": {
   "display_name": "Default_env_55760",
   "language": "python",
   "name": "46016"
  },
  "language_info": {
   "codemirror_mode": {
    "name": "ipython",
    "version": 3
   },
   "file_extension": ".py",
   "mimetype": "text/x-python",
   "name": "python",
   "nbconvert_exporter": "python",
   "pygments_lexer": "ipython3",
   "version": "3.8.10"
  }
 },
 "nbformat": 4,
 "nbformat_minor": 5
}
