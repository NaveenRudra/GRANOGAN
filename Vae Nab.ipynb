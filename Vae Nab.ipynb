{
 "cells": [
  {
   "cell_type": "code",
   "execution_count": 85,
   "id": "b9b31f87-c6ed-456b-ac94-f6b2ee438f8a",
   "metadata": {},
   "outputs": [],
   "source": [
    "import torch\n",
    "import torch.nn as nn \n",
    "import pandas as pd\n",
    "import numpy as np\n",
    "import time\n",
    "import torch.backends.cudnn as cudnn\n",
    "from torch.autograd import Variable\n",
    "import datetime"
   ]
  },
  {
   "cell_type": "code",
   "execution_count": 86,
   "id": "741e2ec2-10ea-4646-978d-b89814b7e4bc",
   "metadata": {},
   "outputs": [],
   "source": [
    "from src.algorithms.vae import VaeAlgo\n",
    "from src.utils.util import *\n",
    "from src.dataset.Nabdataset import NabDataset\n",
    "from src.model.modelvae import *"
   ]
  },
  {
   "cell_type": "code",
   "execution_count": 87,
   "id": "c3df0354-1908-4c54-b779-038320a9afec",
   "metadata": {},
   "outputs": [
    {
     "name": "stdout",
     "output_type": "stream",
     "text": [
      "01:47:03\n"
     ]
    }
   ],
   "source": [
    "#This is the beginning of programm\n",
    "t = time.localtime()\n",
    "current_time = time.strftime(\"%H:%M:%S\", t)\n",
    "print(current_time)"
   ]
  },
  {
   "cell_type": "markdown",
   "id": "3f223b89-654b-468d-86ce-421a53dedd42",
   "metadata": {},
   "source": [
    "<h4>Initializing Dataset</h4>"
   ]
  },
  {
   "cell_type": "code",
   "execution_count": 88,
   "id": "fd5fa31f-5249-4835-8d6c-6990f248664d",
   "metadata": {},
   "outputs": [],
   "source": [
    "class ArgsTrn:\n",
    "    workers=4\n",
    "    batch_size=32\n",
    "    epochs=5\n",
    "    lr=0.0002\n",
    "    cuda = True\n",
    "    manualSeed=2\n",
    "    mean=0\n",
    "    std=0.1\n",
    "    \n",
    "opt_trn=ArgsTrn()\n",
    "torch.manual_seed(opt_trn.manualSeed)\n",
    "\n",
    "\n",
    "\n",
    "class Datasettings:\n",
    "    \n",
    "    def __init__(self):\n",
    "        end_name='ambient_temperature_system_failure.csv'\n",
    "        self.data_folder_path=\"/home/jupyter//GRANOGAN-IISC/data/nab/\"\n",
    "        key='realKnownCause/'+end_name \n",
    "        self.label_file = './lables/combined_windows.json'\n",
    "        self.key=key\n",
    "        self.train=True\n",
    "        self.window_length=60"
   ]
  },
  {
   "cell_type": "code",
   "execution_count": 89,
   "id": "b7a57c49-fd47-4f1f-b3b1-b3ab63ed0840",
   "metadata": {},
   "outputs": [],
   "source": [
    "data_settings = Datasettings()\n",
    "dataset = NabDataset(data_settings=data_settings)\n",
    "dataloader = torch.utils.data.DataLoader(dataset, batch_size=opt_trn.batch_size,\n",
    "                                         shuffle=True, num_workers=int(opt_trn.workers))\n",
    "seq_len = dataset.window_length # sequence length is equal to the window length\n",
    "in_dim = dataset.n_feature # input dimension is same as number of feature\n",
    "n_features=dataset.x.shape[2]\n",
    "sequences=[x for i, (x,y) in enumerate(dataloader, 0)]"
   ]
  },
  {
   "cell_type": "code",
   "execution_count": 90,
   "id": "d0daad28-b75a-4859-8731-55c6f5aa4a59",
   "metadata": {},
   "outputs": [
    {
     "name": "stdout",
     "output_type": "stream",
     "text": [
      "cuda\n"
     ]
    }
   ],
   "source": [
    "device = torch.device(\"cuda\" if torch.cuda.is_available() else \"cpu\")\n",
    "print(device)"
   ]
  },
  {
   "cell_type": "code",
   "execution_count": 91,
   "id": "8e2fa4d7-4612-47a2-b796-e077a72de461",
   "metadata": {},
   "outputs": [],
   "source": [
    "dataset.x.shape\n",
    "embedding_dim=16"
   ]
  },
  {
   "cell_type": "code",
   "execution_count": 92,
   "id": "fa3fbdf9-26cd-4f08-bc17-047f84387554",
   "metadata": {},
   "outputs": [],
   "source": [
    "vaeAlgo=VaeAlgo(device=device,opt_trn=opt_trn,windows_length=seq_len,n_features=n_features,embedding_dim=embedding_dim)"
   ]
  },
  {
   "cell_type": "code",
   "execution_count": 93,
   "id": "c7bbca24-6462-4613-a5d5-f360271dbf1a",
   "metadata": {},
   "outputs": [
    {
     "name": "stderr",
     "output_type": "stream",
     "text": [
      "/libraries/Default_env_55311/lib/python3.8/site-packages/torch/nn/parallel/_functions.py:68: UserWarning: Was asked to gather along dimension 0, but all input tensors were scalars; will instead unsqueeze and return a vector.\n",
      "  warnings.warn('Was asked to gather along dimension 0, but all '\n"
     ]
    },
    {
     "name": "stdout",
     "output_type": "stream",
     "text": [
      "Epoch 0: train loss 0.5768251253172682\n",
      "Epoch 1: train loss 0.21620229749109945\n",
      "Epoch 2: train loss 0.1485311476321056\n",
      "Epoch 3: train loss 0.12964491549824259\n",
      "Epoch 4: train loss 0.12006751036849515\n"
     ]
    }
   ],
   "source": [
    "trained_model=vaeAlgo.train_vaeautoencoder(sequences)"
   ]
  },
  {
   "cell_type": "code",
   "execution_count": 94,
   "id": "419972ca-cde2-44bc-8734-cfc439ee3b18",
   "metadata": {},
   "outputs": [],
   "source": [
    "PATH='/home/jupyter/src/saved_models/vae/nab/vae.pkl'"
   ]
  },
  {
   "cell_type": "code",
   "execution_count": 95,
   "id": "4a349c11-863c-4867-9acd-92454819cede",
   "metadata": {},
   "outputs": [],
   "source": [
    "torch.save(trained_model.module.state_dict(), PATH)"
   ]
  },
  {
   "cell_type": "code",
   "execution_count": 96,
   "id": "7601a849-dad8-41c8-b736-c6cca36b86e4",
   "metadata": {},
   "outputs": [],
   "source": [
    "state_dict = torch.load(PATH)\n",
    "trained_model=VAE(embedding_dim, n_features,device=device)\n",
    "trained_model=nn.DataParallel(trained_model)\n",
    "trained_model.to(device)\n",
    "trained_model=vaeAlgo.load_model(state_dict,trained_model)"
   ]
  },
  {
   "cell_type": "markdown",
   "id": "b3abdf36-2471-4202-b283-9026a7ddb4b1",
   "metadata": {},
   "source": [
    "<h4>Loading back the saved models</h4>"
   ]
  },
  {
   "cell_type": "code",
   "execution_count": 97,
   "id": "36b77423-806f-4198-b5a8-03895a1ab56b",
   "metadata": {},
   "outputs": [],
   "source": [
    "vaeAlgo.intialize_lstmvaeautoencoder(trained_model)"
   ]
  },
  {
   "cell_type": "markdown",
   "id": "7344936e-a25f-43e9-aa92-790780ee9aa2",
   "metadata": {},
   "source": [
    "<h2>Test Data</h2>\n"
   ]
  },
  {
   "cell_type": "code",
   "execution_count": 98,
   "id": "fb984463-5732-41e2-9089-d29330bc6961",
   "metadata": {},
   "outputs": [],
   "source": [
    "class ArgsTest:\n",
    "    workers = 1\n",
    "    batch_size = 1\n",
    "    \n",
    "opt_test=ArgsTest()\n",
    "\n",
    "\n",
    "\n",
    "class TestDataSettings:\n",
    "    \n",
    "    def __init__(self):\n",
    "        end_name='ambient_temperature_system_failure.csv'\n",
    "        self.data_folder_path=\"/home/jupyter//GRANOGAN-IISC/data/nab/\"\n",
    "        key='realKnownCause/'+end_name \n",
    "        self.label_file = './lables/combined_windows.json'\n",
    "        self.key=key\n",
    "        self.train=False\n",
    "        self.window_length=60        \n",
    "        \n",
    "test_data_settings = TestDataSettings()"
   ]
  },
  {
   "cell_type": "code",
   "execution_count": 99,
   "id": "88848d05-0a37-464b-b8f8-42c9e583aec5",
   "metadata": {},
   "outputs": [],
   "source": [
    "# define dataset object and data loader object in evaluation mood for NAB dataset\n",
    "from mlutils import dataset\n",
    "test_dataset = NabDataset(test_data_settings)\n",
    "test_dataloader = torch.utils.data.DataLoader(test_dataset, batch_size=opt_test.batch_size, \n",
    "                                         shuffle=False, num_workers=int(opt_test.workers))\n",
    "\n",
    "test_dataset.x.shape, test_dataset.y.shape, test_dataset.data_len # check the dataset shape\n",
    "\n",
    "\n",
    "test_sequences=[x for i, (x,y) in enumerate(test_dataloader, 0)]"
   ]
  },
  {
   "cell_type": "code",
   "execution_count": 100,
   "id": "7a1f5727-0077-4e1d-8e3c-b1da0a0e3db7",
   "metadata": {},
   "outputs": [
    {
     "name": "stderr",
     "output_type": "stream",
     "text": [
      "/libraries/Default_env_55311/lib/python3.8/site-packages/torch/nn/parallel/_functions.py:68: UserWarning: Was asked to gather along dimension 0, but all input tensors were scalars; will instead unsqueeze and return a vector.\n",
      "  warnings.warn('Was asked to gather along dimension 0, but all '\n"
     ]
    }
   ],
   "source": [
    "losses=vaeAlgo.predict_loss(test_sequences)"
   ]
  },
  {
   "cell_type": "code",
   "execution_count": 101,
   "id": "1ff62807-40cc-4d3d-8b8a-0ec2a1a5a9c9",
   "metadata": {},
   "outputs": [],
   "source": [
    "import matplotlib.pyplot as plt\n",
    "import seaborn as sns"
   ]
  },
  {
   "cell_type": "code",
   "execution_count": 102,
   "id": "d2f379fc-0ba8-47da-a128-24875564e1e0",
   "metadata": {},
   "outputs": [
    {
     "data": {
      "image/png": "[encoded data removed]",
      "text/plain": [
       "<Figure size 1280x720 with 1 Axes>"
      ]
     },
     "metadata": {
      "needs_background": "light"
     },
     "output_type": "display_data"
    }
   ],
   "source": [
    "plt.figure(figsize=(16,9), dpi=80)\n",
    "plt.title('Loss Distribution', fontsize=16)\n",
    "sns.histplot(losses, bins = 20, kde= False, color = 'blue');\n",
    "#sns.distplot(losses, bins = 20, kde= True, color = 'blue');"
   ]
  },
  {
   "cell_type": "code",
   "execution_count": 106,
   "id": "ab94cf6d-db4d-4ba0-9c41-811cf763374b",
   "metadata": {},
   "outputs": [
    {
     "data": {
      "image/png": "[encoded data removed]",
      "text/plain": [
       "<Figure size 432x288 with 1 Axes>"
      ]
     },
     "metadata": {
      "needs_background": "light"
     },
     "output_type": "display_data"
    }
   ],
   "source": [
    "THRESHOLD =1.25\n",
    "\n",
    "test_score_df = pd.DataFrame(index=range(len(losses)))\n",
    "test_score_df['loss'] = [loss for loss in losses]\n",
    "test_score_df['y'] = test_dataset.y\n",
    "test_score_df['threshold'] = THRESHOLD\n",
    "test_score_df['anomaly'] = test_score_df.loss > test_score_df.threshold\n",
    "test_score_df['t'] = [x[59].item() for x in test_dataset.x]\n",
    "\n",
    "plt.plot( test_score_df.loss, label='loss')\n",
    "plt.plot( test_score_df.threshold, label='threshold')\n",
    "#plt.plot( test_score_df.y, label='y')\n",
    "plt.xticks(rotation=25)\n",
    "plt.legend();"
   ]
  },
  {
   "cell_type": "code",
   "execution_count": 107,
   "id": "595f4eec-ce09-4757-8793-f72fd6bedbf9",
   "metadata": {},
   "outputs": [],
   "source": [
    "import numpy as np\n",
    "actual,predicted=improve_detection(test_score_df)"
   ]
  },
  {
   "cell_type": "code",
   "execution_count": 108,
   "id": "af5b0a1a-934a-4bdc-87fc-dc9268474f7f",
   "metadata": {},
   "outputs": [
    {
     "name": "stdout",
     "output_type": "stream",
     "text": [
      "True Positive\t 15\n",
      "True Negative\t 103\n",
      "False Positive\t 3\n",
      "False Negative\t 0\n",
      "Accuracy\t 0.9752066115702479\n",
      "Precision\t 0.8333333333333334\n",
      "Recall\t 1.0\n",
      "f-measure\t 0.9090909090909091\n",
      "cohen_kappa_score\t 0.894874022589053\n",
      "auc\t 0.9858490566037736\n",
      "roc_auc\t 0.9858490566037736\n"
     ]
    }
   ],
   "source": [
    "\n",
    "from sklearn.metrics import cohen_kappa_score\n",
    "from sklearn.metrics import roc_curve, auc, roc_auc_score\n",
    "\n",
    "predicted = np.array(predicted)\n",
    "actual = np.array(actual)\n",
    "\n",
    "print_scores(predicted,actual)"
   ]
  },
  {
   "cell_type": "code",
   "execution_count": null,
   "id": "949d78c2-5740-4a98-8104-990b73a9b51f",
   "metadata": {},
   "outputs": [],
   "source": []
  }
 ],
 "metadata": {
  "kernelspec": {
   "display_name": "Default_env_55760",
   "language": "python",
   "name": "46016"
  },
  "language_info": {
   "codemirror_mode": {
    "name": "ipython",
    "version": 3
   },
   "file_extension": ".py",
   "mimetype": "text/x-python",
   "name": "python",
   "nbconvert_exporter": "python",
   "pygments_lexer": "ipython3",
   "version": "3.8.10"
  }
 },
 "nbformat": 4,
 "nbformat_minor": 5
}
