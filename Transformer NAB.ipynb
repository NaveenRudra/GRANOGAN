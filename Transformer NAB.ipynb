{
 "cells": [
  {
   "cell_type": "code",
   "execution_count": 1,
   "id": "b9b31f87-c6ed-456b-ac94-f6b2ee438f8a",
   "metadata": {},
   "outputs": [],
   "source": [
    "import torch\n",
    "import torch.nn as nn \n",
    "import pandas as pd\n",
    "import numpy as np\n",
    "import time\n",
    "import torch.backends.cudnn as cudnn\n",
    "from torch.autograd import Variable\n",
    "import datetime"
   ]
  },
  {
   "cell_type": "code",
   "execution_count": 2,
   "id": "741e2ec2-10ea-4646-978d-b89814b7e4bc",
   "metadata": {},
   "outputs": [],
   "source": [
    "from src.algorithms.Transformer import TranformerAlgo\n",
    "from src.utils.transformer_utils1 import *\n",
    "from src.utils.transformer_utils2 import *\n",
    "from src.dataset.Nabdataset import NabDataset\n",
    "from src.model.modelTransformer import *"
   ]
  },
  {
   "cell_type": "code",
   "execution_count": 3,
   "id": "c3df0354-1908-4c54-b779-038320a9afec",
   "metadata": {},
   "outputs": [
    {
     "name": "stdout",
     "output_type": "stream",
     "text": [
      "12:31:10\n"
     ]
    }
   ],
   "source": [
    "#This is the beginning of programm\n",
    "t = time.localtime()\n",
    "current_time = time.strftime(\"%H:%M:%S\", t)\n",
    "print(current_time)"
   ]
  },
  {
   "cell_type": "markdown",
   "id": "3f223b89-654b-468d-86ce-421a53dedd42",
   "metadata": {},
   "source": [
    "<h4>Initializing Dataset</h4>"
   ]
  },
  {
   "cell_type": "code",
   "execution_count": 4,
   "id": "fd5fa31f-5249-4835-8d6c-6990f248664d",
   "metadata": {},
   "outputs": [],
   "source": [
    "class ArgsTrn:\n",
    "    workers=4\n",
    "    batch_size=32\n",
    "    epochs=5\n",
    "    lr=0.0002\n",
    "    cuda = True\n",
    "    manualSeed=2\n",
    "    mean=0\n",
    "    std=0.1\n",
    "    \n",
    "opt_trn=ArgsTrn()\n",
    "    \n",
    "opt_trn=ArgsTrn()\n",
    "torch.manual_seed(opt_trn.manualSeed)\n",
    "\n",
    "\n",
    "\n",
    "class Datasettings:\n",
    "    \n",
    "    def __init__(self):\n",
    "        '''\n",
    "        end_name='ambient_temperature_system_failure.csv'\n",
    "        self.dataset_name=\"NAB_Ambient_Temperature\"\n",
    "        key='realKnownCause/'+end_name \n",
    "        self.label_file = './lables/combined_windows.json'\n",
    "        '''\n",
    "        '''\n",
    "        end_name='exchange-2_cpc_results.csv'\n",
    "        self.dataset_name=\"exchange-2_cpc_results\"\n",
    "        key='realAdExchange/'+end_name \n",
    "        self.label_file = './lables/combined_windows.json'\n",
    "        '''\n",
    "        end_name='Twitter_volume_AAPL.csv'\n",
    "        self.data_folder_path=\"/home/jupyter//GRANOGAN-IISC/data/nab/\"\n",
    "        key='realTweets/'+end_name \n",
    "        self.label_file = './lables/combined_windows.json'\n",
    "        self.key=key\n",
    "        self.train=True\n",
    "        self.window_length=60"
   ]
  },
  {
   "cell_type": "code",
   "execution_count": 5,
   "id": "b7a57c49-fd47-4f1f-b3b1-b3ab63ed0840",
   "metadata": {},
   "outputs": [],
   "source": [
    "data_settings = Datasettings()\n",
    "dataset = NabDataset(data_settings=data_settings)\n",
    "dataloader = torch.utils.data.DataLoader(dataset, batch_size=opt_trn.batch_size,\n",
    "                                         shuffle=True, num_workers=int(opt_trn.workers))\n",
    "seq_len = dataset.window_length # sequence length is equal to the window length\n",
    "in_dim = dataset.n_feature # input dimension is same as number of feature\n",
    "n_features=dataset.x.shape[2]\n",
    "sequences=[x for i, (x,y) in enumerate(dataloader, 0)]"
   ]
  },
  {
   "cell_type": "code",
   "execution_count": 6,
   "id": "d0daad28-b75a-4859-8731-55c6f5aa4a59",
   "metadata": {},
   "outputs": [],
   "source": [
    "device = torch.device(\"cuda\" if torch.cuda.is_available() else \"cpu\")\n"
   ]
  },
  {
   "cell_type": "code",
   "execution_count": 7,
   "id": "8e2fa4d7-4612-47a2-b796-e077a72de461",
   "metadata": {},
   "outputs": [],
   "source": [
    "dataset.x.shape\n",
    "embedding_dim=16"
   ]
  },
  {
   "cell_type": "code",
   "execution_count": 8,
   "id": "fa3fbdf9-26cd-4f08-bc17-047f84387554",
   "metadata": {},
   "outputs": [],
   "source": [
    "tranformerAlgo=TranformerAlgo(device=device,opt_trn=opt_trn,windows_length=seq_len,n_features=n_features,embedding_dim=embedding_dim)"
   ]
  },
  {
   "cell_type": "code",
   "execution_count": 9,
   "id": "c7bbca24-6462-4613-a5d5-f360271dbf1a",
   "metadata": {},
   "outputs": [
    {
     "ename": "RuntimeError",
     "evalue": "The size of tensor a (62) must match the size of tensor b (60) at non-singleton dimension 1",
     "output_type": "error",
     "traceback": [
      "\u001b[0;31m---------------------------------------------------------------------------\u001b[0m",
      "\u001b[0;31mRuntimeError\u001b[0m                              Traceback (most recent call last)",
      "\u001b[0;32m/tmp/ipykernel_3215918/226266590.py\u001b[0m in \u001b[0;36m<module>\u001b[0;34m\u001b[0m\n\u001b[0;32m----> 1\u001b[0;31m \u001b[0mtrained_tranformer\u001b[0m\u001b[0;34m=\u001b[0m\u001b[0mtranformerAlgo\u001b[0m\u001b[0;34m.\u001b[0m\u001b[0mtrain_autoencoder\u001b[0m\u001b[0;34m(\u001b[0m\u001b[0msequences\u001b[0m\u001b[0;34m)\u001b[0m\u001b[0;34m\u001b[0m\u001b[0;34m\u001b[0m\u001b[0m\n\u001b[0m",
      "\u001b[0;32m~/src/algorithms/Transformer.py\u001b[0m in \u001b[0;36mtrain_autoencoder\u001b[0;34m(self, sequences)\u001b[0m\n\u001b[1;32m     57\u001b[0m             \u001b[0;32mfor\u001b[0m \u001b[0mx\u001b[0m \u001b[0;32min\u001b[0m \u001b[0msequences\u001b[0m\u001b[0;34m:\u001b[0m\u001b[0;34m\u001b[0m\u001b[0;34m\u001b[0m\u001b[0m\n\u001b[1;32m     58\u001b[0m                 \u001b[0mself\u001b[0m\u001b[0;34m.\u001b[0m\u001b[0moptimizerAutoEncoder\u001b[0m\u001b[0;34m.\u001b[0m\u001b[0mzero_grad\u001b[0m\u001b[0;34m(\u001b[0m\u001b[0;34m)\u001b[0m\u001b[0;34m\u001b[0m\u001b[0;34m\u001b[0m\u001b[0m\n\u001b[0;32m---> 59\u001b[0;31m                 \u001b[0moutput\u001b[0m\u001b[0;34m,\u001b[0m\u001b[0m_\u001b[0m\u001b[0;34m,\u001b[0m\u001b[0m_\u001b[0m\u001b[0;34m,\u001b[0m\u001b[0m_\u001b[0m\u001b[0;34m=\u001b[0m\u001b[0mself\u001b[0m\u001b[0;34m.\u001b[0m\u001b[0mtransformerautoencoder\u001b[0m\u001b[0;34m.\u001b[0m\u001b[0mforward\u001b[0m\u001b[0;34m(\u001b[0m\u001b[0mx\u001b[0m\u001b[0;34m)\u001b[0m\u001b[0;34m\u001b[0m\u001b[0;34m\u001b[0m\u001b[0m\n\u001b[0m\u001b[1;32m     60\u001b[0m                 \u001b[0merr\u001b[0m\u001b[0;34m=\u001b[0m\u001b[0mself\u001b[0m\u001b[0;34m.\u001b[0m\u001b[0mcriterion\u001b[0m\u001b[0;34m(\u001b[0m\u001b[0mx\u001b[0m\u001b[0;34m,\u001b[0m\u001b[0moutput\u001b[0m\u001b[0;34m)\u001b[0m\u001b[0;34m\u001b[0m\u001b[0;34m\u001b[0m\u001b[0m\n\u001b[1;32m     61\u001b[0m                 \u001b[0merr\u001b[0m\u001b[0;34m.\u001b[0m\u001b[0mbackward\u001b[0m\u001b[0;34m(\u001b[0m\u001b[0;34m)\u001b[0m\u001b[0;34m\u001b[0m\u001b[0;34m\u001b[0m\u001b[0m\n",
      "\u001b[0;32m~/src/model/modelTransformer.py\u001b[0m in \u001b[0;36mforward\u001b[0;34m(self, x)\u001b[0m\n\u001b[1;32m     83\u001b[0m \u001b[0;34m\u001b[0m\u001b[0m\n\u001b[1;32m     84\u001b[0m     \u001b[0;32mdef\u001b[0m \u001b[0mforward\u001b[0m\u001b[0;34m(\u001b[0m\u001b[0mself\u001b[0m\u001b[0;34m,\u001b[0m \u001b[0mx\u001b[0m\u001b[0;34m)\u001b[0m\u001b[0;34m:\u001b[0m\u001b[0;34m\u001b[0m\u001b[0;34m\u001b[0m\u001b[0m\n\u001b[0;32m---> 85\u001b[0;31m         \u001b[0menc_out\u001b[0m \u001b[0;34m=\u001b[0m \u001b[0mself\u001b[0m\u001b[0;34m.\u001b[0m\u001b[0membedding\u001b[0m\u001b[0;34m(\u001b[0m\u001b[0mx\u001b[0m\u001b[0;34m)\u001b[0m\u001b[0;34m\u001b[0m\u001b[0;34m\u001b[0m\u001b[0m\n\u001b[0m\u001b[1;32m     86\u001b[0m         \u001b[0menc_out\u001b[0m\u001b[0;34m,\u001b[0m \u001b[0mseries\u001b[0m\u001b[0;34m,\u001b[0m \u001b[0mprior\u001b[0m\u001b[0;34m,\u001b[0m \u001b[0msigmas\u001b[0m \u001b[0;34m=\u001b[0m \u001b[0mself\u001b[0m\u001b[0;34m.\u001b[0m\u001b[0mencoder\u001b[0m\u001b[0;34m(\u001b[0m\u001b[0menc_out\u001b[0m\u001b[0;34m)\u001b[0m\u001b[0;34m\u001b[0m\u001b[0;34m\u001b[0m\u001b[0m\n\u001b[1;32m     87\u001b[0m         \u001b[0menc_out\u001b[0m \u001b[0;34m=\u001b[0m \u001b[0mself\u001b[0m\u001b[0;34m.\u001b[0m\u001b[0mprojection\u001b[0m\u001b[0;34m(\u001b[0m\u001b[0menc_out\u001b[0m\u001b[0;34m)\u001b[0m\u001b[0;34m\u001b[0m\u001b[0;34m\u001b[0m\u001b[0m\n",
      "\u001b[0;32m/libraries/Default_env_55311/lib/python3.8/site-packages/torch/nn/modules/module.py\u001b[0m in \u001b[0;36m_call_impl\u001b[0;34m(self, *input, **kwargs)\u001b[0m\n\u001b[1;32m   1054\u001b[0m         if not (self._backward_hooks or self._forward_hooks or self._forward_pre_hooks or _global_backward_hooks\n\u001b[1;32m   1055\u001b[0m                 or _global_forward_hooks or _global_forward_pre_hooks):\n\u001b[0;32m-> 1056\u001b[0;31m             \u001b[0;32mreturn\u001b[0m \u001b[0mforward_call\u001b[0m\u001b[0;34m(\u001b[0m\u001b[0;34m*\u001b[0m\u001b[0minput\u001b[0m\u001b[0;34m,\u001b[0m \u001b[0;34m**\u001b[0m\u001b[0mkwargs\u001b[0m\u001b[0;34m)\u001b[0m\u001b[0;34m\u001b[0m\u001b[0;34m\u001b[0m\u001b[0m\n\u001b[0m\u001b[1;32m   1057\u001b[0m         \u001b[0;31m# Do not call functions when jit is used\u001b[0m\u001b[0;34m\u001b[0m\u001b[0;34m\u001b[0m\u001b[0;34m\u001b[0m\u001b[0m\n\u001b[1;32m   1058\u001b[0m         \u001b[0mfull_backward_hooks\u001b[0m\u001b[0;34m,\u001b[0m \u001b[0mnon_full_backward_hooks\u001b[0m \u001b[0;34m=\u001b[0m \u001b[0;34m[\u001b[0m\u001b[0;34m]\u001b[0m\u001b[0;34m,\u001b[0m \u001b[0;34m[\u001b[0m\u001b[0;34m]\u001b[0m\u001b[0;34m\u001b[0m\u001b[0;34m\u001b[0m\u001b[0m\n",
      "\u001b[0;32m~/src/utils/transformer_utils2.py\u001b[0m in \u001b[0;36mforward\u001b[0;34m(self, x)\u001b[0m\n\u001b[1;32m    149\u001b[0m \u001b[0;34m\u001b[0m\u001b[0m\n\u001b[1;32m    150\u001b[0m     \u001b[0;32mdef\u001b[0m \u001b[0mforward\u001b[0m\u001b[0;34m(\u001b[0m\u001b[0mself\u001b[0m\u001b[0;34m,\u001b[0m \u001b[0mx\u001b[0m\u001b[0;34m)\u001b[0m\u001b[0;34m:\u001b[0m\u001b[0;34m\u001b[0m\u001b[0;34m\u001b[0m\u001b[0m\n\u001b[0;32m--> 151\u001b[0;31m         \u001b[0mx\u001b[0m \u001b[0;34m=\u001b[0m \u001b[0mself\u001b[0m\u001b[0;34m.\u001b[0m\u001b[0mvalue_embedding\u001b[0m\u001b[0;34m(\u001b[0m\u001b[0mx\u001b[0m\u001b[0;34m)\u001b[0m \u001b[0;34m+\u001b[0m \u001b[0mself\u001b[0m\u001b[0;34m.\u001b[0m\u001b[0mposition_embedding\u001b[0m\u001b[0;34m(\u001b[0m\u001b[0mx\u001b[0m\u001b[0;34m)\u001b[0m\u001b[0;34m\u001b[0m\u001b[0;34m\u001b[0m\u001b[0m\n\u001b[0m\u001b[1;32m    152\u001b[0m         \u001b[0;32mreturn\u001b[0m \u001b[0mself\u001b[0m\u001b[0;34m.\u001b[0m\u001b[0mdropout\u001b[0m\u001b[0;34m(\u001b[0m\u001b[0mx\u001b[0m\u001b[0;34m)\u001b[0m\u001b[0;34m\u001b[0m\u001b[0;34m\u001b[0m\u001b[0m\n\u001b[1;32m    153\u001b[0m \u001b[0;34m\u001b[0m\u001b[0m\n",
      "\u001b[0;31mRuntimeError\u001b[0m: The size of tensor a (62) must match the size of tensor b (60) at non-singleton dimension 1"
     ]
    }
   ],
   "source": [
    "trained_tranformer=tranformerAlgo.train_autoencoder(sequences)"
   ]
  },
  {
   "cell_type": "code",
   "execution_count": null,
   "id": "419972ca-cde2-44bc-8734-cfc439ee3b18",
   "metadata": {},
   "outputs": [],
   "source": [
    "PATH='/home/jupyter/src/saved_models/LSTMAutoencoder/yahoo/autoencoder.pkl'"
   ]
  },
  {
   "cell_type": "code",
   "execution_count": null,
   "id": "4a349c11-863c-4867-9acd-92454819cede",
   "metadata": {},
   "outputs": [],
   "source": [
    "torch.save(trained_tranformer.module.state_dict(), PATH)"
   ]
  },
  {
   "cell_type": "code",
   "execution_count": null,
   "id": "7601a849-dad8-41c8-b736-c6cca36b86e4",
   "metadata": {},
   "outputs": [],
   "source": [
    "state_dict = torch.load(PATH)\n",
    "trained_tranformer=AnomalyTransformer(win_size=seq_len, enc_in=1, c_out=1, e_layers=3)\n",
    "trained_tranformer=nn.DataParallel(trained_tranformer)\n",
    "trained_tranformer.to(device)\n",
    "trained_tranformer=lstmAutoencoderAlgo.load_model(state_dict,trained_tranformer)"
   ]
  },
  {
   "cell_type": "markdown",
   "id": "b3abdf36-2471-4202-b283-9026a7ddb4b1",
   "metadata": {},
   "source": [
    "<h4>Loading back the saved models</h4>"
   ]
  },
  {
   "cell_type": "code",
   "execution_count": null,
   "id": "36b77423-806f-4198-b5a8-03895a1ab56b",
   "metadata": {},
   "outputs": [],
   "source": [
    "tranformerAlgo.intialize_lstmautoencoder(trained_autoencoder)"
   ]
  },
  {
   "cell_type": "markdown",
   "id": "7344936e-a25f-43e9-aa92-790780ee9aa2",
   "metadata": {},
   "source": [
    "<h2>Test Data</h2>\n"
   ]
  },
  {
   "cell_type": "code",
   "execution_count": null,
   "id": "fb984463-5732-41e2-9089-d29330bc6961",
   "metadata": {},
   "outputs": [],
   "source": [
    "class ArgsTest:\n",
    "    workers = 1\n",
    "    batch_size = 1\n",
    "    \n",
    "opt_test=ArgsTest()\n",
    "\n",
    "\n",
    "class TestDataSettings:\n",
    "    \n",
    "    def __init__(self):\n",
    "        '''\n",
    "        end_name='exchange-2_cpc_results.csv'\n",
    "        self.dataset_name=\"exchange-2_cpc_results\"\n",
    "        key='realAdExchange/'+end_name \n",
    "        self.label_file = './lables/combined_windows.json'\n",
    "        '''\n",
    "        '''\n",
    "        end_name='ambient_temperature_system_failure.csv'\n",
    "        self.dataset_name=\"NAB_Ambient_Temperature\"\n",
    "        key='realKnownCause/'+end_name \n",
    "        self.label_file = './lables/combined_windows.json'\n",
    "        '''\n",
    "        \n",
    "        end_name='Twitter_volume_AAPL.csv'\n",
    "        self.dataset_name=\"Twitter_volume_AAPL\"\n",
    "        key='realTweets/'+end_name \n",
    "        self.label_file = './lables/combined_windows.json'\n",
    "        self.key=key\n",
    "        self.train=False\n",
    "        self.window_length=60        \n",
    "        \n",
    "test_data_settings = TestDataSettings()"
   ]
  },
  {
   "cell_type": "code",
   "execution_count": null,
   "id": "88848d05-0a37-464b-b8f8-42c9e583aec5",
   "metadata": {},
   "outputs": [],
   "source": [
    "# define dataset object and data loader object in evaluation mood for NAB dataset\n",
    "from mlutils import dataset\n",
    "test_dataset = NabDataset(test_data_settings)\n",
    "test_dataloader = torch.utils.data.DataLoader(test_dataset, batch_size=opt_test.batch_size, \n",
    "                                         shuffle=False, num_workers=int(opt_test.workers))\n",
    "\n",
    "test_dataset.x.shape, test_dataset.y.shape, test_dataset.data_len # check the dataset shape\n",
    "\n",
    "\n",
    "test_sequences=[x for i, (x,y) in enumerate(test_dataloader, 0)]"
   ]
  },
  {
   "cell_type": "code",
   "execution_count": null,
   "id": "7a1f5727-0077-4e1d-8e3c-b1da0a0e3db7",
   "metadata": {},
   "outputs": [],
   "source": [
    "losses=tranformerAlgo.predict_loss(test_sequences)"
   ]
  },
  {
   "cell_type": "code",
   "execution_count": null,
   "id": "1ff62807-40cc-4d3d-8b8a-0ec2a1a5a9c9",
   "metadata": {},
   "outputs": [],
   "source": [
    "import matplotlib.pyplot as plt\n",
    "import seaborn as sns"
   ]
  },
  {
   "cell_type": "code",
   "execution_count": null,
   "id": "d2f379fc-0ba8-47da-a128-24875564e1e0",
   "metadata": {},
   "outputs": [],
   "source": [
    "plt.figure(figsize=(16,9), dpi=80)\n",
    "plt.title('Loss Distribution', fontsize=16)\n",
    "sns.histplot(losses, bins = 20, kde= False, color = 'blue');\n",
    "#sns.distplot(losses, bins = 20, kde= True, color = 'blue');"
   ]
  },
  {
   "cell_type": "code",
   "execution_count": null,
   "id": "ab94cf6d-db4d-4ba0-9c41-811cf763374b",
   "metadata": {},
   "outputs": [],
   "source": [
    "THRESHOLD =1.4\n",
    "\n",
    "test_score_df = pd.DataFrame(index=range(len(losses)))\n",
    "test_score_df['loss'] = [loss for loss in losses]\n",
    "test_score_df['y'] = test_dataset.y\n",
    "test_score_df['threshold'] = THRESHOLD\n",
    "test_score_df['anomaly'] = test_score_df.loss > test_score_df.threshold\n",
    "test_score_df['t'] = [x[59].item() for x in test_dataset.x]\n",
    "\n",
    "plt.plot( test_score_df.loss, label='loss')\n",
    "plt.plot( test_score_df.threshold, label='threshold')\n",
    "#plt.plot( test_score_df.y, label='y')\n",
    "plt.xticks(rotation=25)\n",
    "plt.legend();"
   ]
  },
  {
   "cell_type": "code",
   "execution_count": null,
   "id": "595f4eec-ce09-4757-8793-f72fd6bedbf9",
   "metadata": {},
   "outputs": [],
   "source": [
    "import numpy as np\n",
    "actual,predicted=improve_detection(test_score_df)"
   ]
  },
  {
   "cell_type": "code",
   "execution_count": null,
   "id": "af5b0a1a-934a-4bdc-87fc-dc9268474f7f",
   "metadata": {},
   "outputs": [],
   "source": [
    "\n",
    "from sklearn.metrics import cohen_kappa_score\n",
    "from sklearn.metrics import roc_curve, auc, roc_auc_score\n",
    "\n",
    "predicted = np.array(predicted)\n",
    "actual = np.array(actual)\n",
    "\n",
    "print_scores(predicted,actual)"
   ]
  },
  {
   "cell_type": "code",
   "execution_count": null,
   "id": "949d78c2-5740-4a98-8104-990b73a9b51f",
   "metadata": {},
   "outputs": [],
   "source": []
  }
 ],
 "metadata": {
  "kernelspec": {
   "display_name": "Default_env_55760",
   "language": "python",
   "name": "46016"
  },
  "language_info": {
   "codemirror_mode": {
    "name": "ipython",
    "version": 3
   },
   "file_extension": ".py",
   "mimetype": "text/x-python",
   "name": "python",
   "nbconvert_exporter": "python",
   "pygments_lexer": "ipython3",
   "version": "3.8.10"
  }
 },
 "nbformat": 4,
 "nbformat_minor": 5
}
