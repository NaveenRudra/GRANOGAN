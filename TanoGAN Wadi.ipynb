{
 "cells": [
  {
   "cell_type": "code",
   "execution_count": 36,
   "id": "cf021d2d-0571-4ff0-a25f-6fc63467c552",
   "metadata": {},
   "outputs": [],
   "source": [
    "import torch\n",
    "import torch.nn as nn \n",
    "import pandas as pd\n",
    "import numpy as np\n",
    "import time\n",
    "import torch.backends.cudnn as cudnn\n",
    "from torch.autograd import Variable\n",
    "import datetime\n",
    "from sklearn.impute import SimpleImputer\n",
    "from sklearn.decomposition import PCA"
   ]
  },
  {
   "cell_type": "code",
   "execution_count": 37,
   "id": "6c2c94e3-32f0-4fe4-8663-04425af16abb",
   "metadata": {},
   "outputs": [],
   "source": [
    "from src.algorithms.TanoGan import TanoGan\n",
    "from src.utils.util import *\n",
    "from src.dataset.wadi import WadiDataset\n",
    "from src.model.modelTanoGan import *\n",
    "from src.utils.timeseries_anomalies import _fixed_threshold,_find_threshold"
   ]
  },
  {
   "cell_type": "code",
   "execution_count": 38,
   "id": "69a1dabb-f72a-4ed7-b647-9f3d0e76183c",
   "metadata": {},
   "outputs": [
    {
     "name": "stdout",
     "output_type": "stream",
     "text": [
      "04:48:02\n"
     ]
    }
   ],
   "source": [
    "#This is the beginning of programm\n",
    "t = time.localtime()\n",
    "current_time = time.strftime(\"%H:%M:%S\", t)\n",
    "print(current_time)\n",
    "    \n"
   ]
  },
  {
   "cell_type": "markdown",
   "id": "5c5f97d7-f3d9-4285-92e9-f09d1b3439f2",
   "metadata": {},
   "source": [
    "<h4>Initializing Dataset</h4>"
   ]
  },
  {
   "cell_type": "code",
   "execution_count": 39,
   "id": "20a6dc01-f88a-4ad0-b95d-01b35be21323",
   "metadata": {},
   "outputs": [],
   "source": [
    "class ArgsTrn:\n",
    "    workers=4\n",
    "    batch_size=32\n",
    "    epochs=1\n",
    "    lr=0.0002\n",
    "    cuda = True\n",
    "    manualSeed=2\n",
    "    mean=0\n",
    "    std=0.1\n",
    "    \n",
    "opt_trn=ArgsTrn()\n",
    "torch.manual_seed(opt_trn.manualSeed)\n",
    "\n",
    "\n",
    "class Datasettings:\n",
    "    \n",
    "    def __init__(self):\n",
    "        self.dataset_training_name=\"/home/jupyter/GRANOGAN-IISC/data/wadi/WADI_14days.csv\"\n",
    "        self.dataset_test_name=\"/home/jupyter/GRANOGAN-IISC/data/wadi/WADI_attackdata.csv\"\n",
    "        self.dataset_anomaly_name=\"/home/jupyter/GRANOGAN-IISC/data/wadi/WADI_anomalies.csv\"\n",
    "        self.train=True\n",
    "        self.window_length=60"
   ]
  },
  {
   "cell_type": "code",
   "execution_count": 41,
   "id": "088d6abd-8a74-4e48-a342-583e445500a1",
   "metadata": {},
   "outputs": [],
   "source": [
    "seed=0\n",
    "data_settings = Datasettings()\n",
    "wadi = WadiDataset(seed,data_settings)"
   ]
  },
  {
   "cell_type": "code",
   "execution_count": 42,
   "id": "8058d459-b9d2-4a4b-b85c-9d434b6d8bf6",
   "metadata": {},
   "outputs": [
    {
     "name": "stdout",
     "output_type": "stream",
     "text": [
      "(1209601, 126)\n",
      "Total Number of anomalies in train set = 0\n",
      "Total Number of anomalies in test set = 9948\n",
      "% of anomalies in the test set = 5.7569111289865225\n",
      "number of anomalous events = 14\n"
     ]
    }
   ],
   "source": [
    "x_train, y_train, x_test, y_test = wadi.data()"
   ]
  },
  {
   "cell_type": "code",
   "execution_count": 43,
   "id": "eccaec7e-bd43-4424-a285-2a1d0812dc8b",
   "metadata": {},
   "outputs": [],
   "source": [
    "imputer = SimpleImputer(missing_values=np.nan, strategy='mean')\n",
    "imputer = imputer.fit(x_train)\n",
    "x_train = imputer.transform(x_train)"
   ]
  },
  {
   "cell_type": "code",
   "execution_count": 44,
   "id": "3da40aa2-7fe3-40cc-972d-a9be2ab0774f",
   "metadata": {},
   "outputs": [],
   "source": [
    "reduced_dimesnion=3\n",
    "pca = PCA(n_components=reduced_dimesnion, svd_solver='full')\n",
    "pca.fit(x_train)\n",
    "x_train=pca.transform(x_train)"
   ]
  },
  {
   "cell_type": "code",
   "execution_count": 45,
   "id": "9e8832a2-22bd-4ab1-b378-b6dd52a18fb4",
   "metadata": {},
   "outputs": [],
   "source": [
    "pca = PCA(n_components=reduced_dimesnion, svd_solver='full')\n",
    "pca.fit(x_test)\n",
    "x_test=pca.transform(x_test)"
   ]
  },
  {
   "cell_type": "code",
   "execution_count": 46,
   "id": "3bae54da-32af-4661-a6fc-eb03eab842e8",
   "metadata": {},
   "outputs": [],
   "source": [
    "sequences,y_train_per_window = get_sub_seqs(x_train,y_train, seq_len=60, stride=1,\n",
    "                                 start_discont=np.array([]))"
   ]
  },
  {
   "cell_type": "code",
   "execution_count": 30,
   "id": "42f280ed-35bb-4a86-91ae-69c9887cac73",
   "metadata": {},
   "outputs": [],
   "source": [
    "train_loader, train_val_loader = get_train_data_loaders(sequences, batch_size=32,\n",
    "                                                                splits=[1 - 0.2,\n",
    "                                                                        0.2], seed=0)"
   ]
  },
  {
   "cell_type": "code",
   "execution_count": 47,
   "id": "7a7fcd81-6efa-424d-8661-d7979e4b5eae",
   "metadata": {},
   "outputs": [],
   "source": [
    "device = torch.device(\"cuda\" if torch.cuda.is_available() else \"cpu\")\n",
    "seq_len = wadi.window_length # sequence length is equal to the window length\n",
    "in_dim = reduced_dimesnion # input dimension is same as number of feature\n",
    "n_features=reduced_dimesnion"
   ]
  },
  {
   "cell_type": "code",
   "execution_count": 48,
   "id": "c761b022-b6c7-4f5e-aa49-ecb8c49d6559",
   "metadata": {},
   "outputs": [],
   "source": [
    "embedding_dim=16\n",
    "tanoGan=TanoGan(device=device,opt_trn=opt_trn,windows_length=seq_len,n_features=n_features,embedding_dim=embedding_dim)"
   ]
  },
  {
   "cell_type": "code",
   "execution_count": 33,
   "id": "2aa34d7e-8e1a-4c73-a54e-63b7adf8d709",
   "metadata": {},
   "outputs": [
    {
     "name": "stderr",
     "output_type": "stream",
     "text": [
      "/home/jupyter/src/algorithms/TanoGan.py:72: UserWarning: nn.init.normal is now deprecated in favor of nn.init.normal_.\n",
      "  noise = Variable(init.normal(torch.Tensor(batch_size,seq_len,self.in_dim),mean=0,std=0.1)).to(self.device)\n",
      "/home/jupyter/src/algorithms/TanoGan.py:88: UserWarning: nn.init.normal is now deprecated in favor of nn.init.normal_.\n",
      "  noise = Variable(init.normal(torch.Tensor(batch_size,seq_len,self.in_dim),mean=0,std=0.1)).to(self.device)\n"
     ]
    },
    {
     "ename": "KeyboardInterrupt",
     "evalue": "",
     "output_type": "error",
     "traceback": [
      "\u001b[0;31m---------------------------------------------------------------------------\u001b[0m",
      "\u001b[0;31mKeyboardInterrupt\u001b[0m                         Traceback (most recent call last)",
      "\u001b[0;32m/tmp/ipykernel_832647/2864822542.py\u001b[0m in \u001b[0;36m<module>\u001b[0;34m\u001b[0m\n\u001b[0;32m----> 1\u001b[0;31m \u001b[0mtrained_D\u001b[0m\u001b[0;34m,\u001b[0m\u001b[0mtrained_G\u001b[0m\u001b[0;34m=\u001b[0m\u001b[0mtanoGan\u001b[0m\u001b[0;34m.\u001b[0m\u001b[0mtrain_TanoGAN\u001b[0m\u001b[0;34m(\u001b[0m\u001b[0mtrain_loader\u001b[0m\u001b[0;34m)\u001b[0m\u001b[0;34m\u001b[0m\u001b[0;34m\u001b[0m\u001b[0m\n\u001b[0m",
      "\u001b[0;32m~/src/algorithms/TanoGan.py\u001b[0m in \u001b[0;36mtrain_TanoGAN\u001b[0;34m(self, sequences)\u001b[0m\n\u001b[1;32m     85\u001b[0m                 \u001b[0;31m# (2) Update G network: maximize log(D(G(z)))\u001b[0m\u001b[0;34m\u001b[0m\u001b[0;34m\u001b[0m\u001b[0;34m\u001b[0m\u001b[0m\n\u001b[1;32m     86\u001b[0m                 \u001b[0;31m###########################\u001b[0m\u001b[0;34m\u001b[0m\u001b[0;34m\u001b[0m\u001b[0;34m\u001b[0m\u001b[0m\n\u001b[0;32m---> 87\u001b[0;31m                 \u001b[0mself\u001b[0m\u001b[0;34m.\u001b[0m\u001b[0moptimizerG\u001b[0m\u001b[0;34m.\u001b[0m\u001b[0mzero_grad\u001b[0m\u001b[0;34m(\u001b[0m\u001b[0;34m)\u001b[0m\u001b[0;34m\u001b[0m\u001b[0;34m\u001b[0m\u001b[0m\n\u001b[0m\u001b[1;32m     88\u001b[0m                 \u001b[0mnoise\u001b[0m \u001b[0;34m=\u001b[0m \u001b[0mVariable\u001b[0m\u001b[0;34m(\u001b[0m\u001b[0minit\u001b[0m\u001b[0;34m.\u001b[0m\u001b[0mnormal\u001b[0m\u001b[0;34m(\u001b[0m\u001b[0mtorch\u001b[0m\u001b[0;34m.\u001b[0m\u001b[0mTensor\u001b[0m\u001b[0;34m(\u001b[0m\u001b[0mbatch_size\u001b[0m\u001b[0;34m,\u001b[0m\u001b[0mseq_len\u001b[0m\u001b[0;34m,\u001b[0m\u001b[0mself\u001b[0m\u001b[0;34m.\u001b[0m\u001b[0min_dim\u001b[0m\u001b[0;34m)\u001b[0m\u001b[0;34m,\u001b[0m\u001b[0mmean\u001b[0m\u001b[0;34m=\u001b[0m\u001b[0;36m0\u001b[0m\u001b[0;34m,\u001b[0m\u001b[0mstd\u001b[0m\u001b[0;34m=\u001b[0m\u001b[0;36m0.1\u001b[0m\u001b[0;34m)\u001b[0m\u001b[0;34m)\u001b[0m\u001b[0;34m.\u001b[0m\u001b[0mto\u001b[0m\u001b[0;34m(\u001b[0m\u001b[0mself\u001b[0m\u001b[0;34m.\u001b[0m\u001b[0mdevice\u001b[0m\u001b[0;34m)\u001b[0m\u001b[0;34m\u001b[0m\u001b[0;34m\u001b[0m\u001b[0m\n\u001b[1;32m     89\u001b[0m                 \u001b[0mfake\u001b[0m\u001b[0;34m,\u001b[0m\u001b[0m_\u001b[0m \u001b[0;34m=\u001b[0m \u001b[0mself\u001b[0m\u001b[0;34m.\u001b[0m\u001b[0mnetG\u001b[0m\u001b[0;34m.\u001b[0m\u001b[0mforward\u001b[0m\u001b[0;34m(\u001b[0m\u001b[0mnoise\u001b[0m\u001b[0;34m)\u001b[0m\u001b[0;34m\u001b[0m\u001b[0;34m\u001b[0m\u001b[0m\n",
      "\u001b[0;32m/libraries/Default_env_55311/lib/python3.8/site-packages/torch/optim/optimizer.py\u001b[0m in \u001b[0;36mzero_grad\u001b[0;34m(self, set_to_none)\u001b[0m\n\u001b[1;32m    214\u001b[0m                             \u001b[0;32melse\u001b[0m\u001b[0;34m:\u001b[0m\u001b[0;34m\u001b[0m\u001b[0;34m\u001b[0m\u001b[0m\n\u001b[1;32m    215\u001b[0m                                 \u001b[0mp\u001b[0m\u001b[0;34m.\u001b[0m\u001b[0mgrad\u001b[0m\u001b[0;34m.\u001b[0m\u001b[0mrequires_grad_\u001b[0m\u001b[0;34m(\u001b[0m\u001b[0;32mFalse\u001b[0m\u001b[0;34m)\u001b[0m\u001b[0;34m\u001b[0m\u001b[0;34m\u001b[0m\u001b[0m\n\u001b[0;32m--> 216\u001b[0;31m                             \u001b[0mp\u001b[0m\u001b[0;34m.\u001b[0m\u001b[0mgrad\u001b[0m\u001b[0;34m.\u001b[0m\u001b[0mzero_\u001b[0m\u001b[0;34m(\u001b[0m\u001b[0;34m)\u001b[0m\u001b[0;34m\u001b[0m\u001b[0;34m\u001b[0m\u001b[0m\n\u001b[0m\u001b[1;32m    217\u001b[0m \u001b[0;34m\u001b[0m\u001b[0m\n\u001b[1;32m    218\u001b[0m     \u001b[0;32mdef\u001b[0m \u001b[0mstep\u001b[0m\u001b[0;34m(\u001b[0m\u001b[0mself\u001b[0m\u001b[0;34m,\u001b[0m \u001b[0mclosure\u001b[0m\u001b[0;34m)\u001b[0m\u001b[0;34m:\u001b[0m\u001b[0;34m\u001b[0m\u001b[0;34m\u001b[0m\u001b[0m\n",
      "\u001b[0;31mKeyboardInterrupt\u001b[0m: "
     ]
    }
   ],
   "source": [
    "trained_D,trained_G=tanoGan.train_TanoGAN(train_loader)"
   ]
  },
  {
   "cell_type": "code",
   "execution_count": 49,
   "id": "fbf6619a-6d79-4dc4-9c04-20c9be512a0d",
   "metadata": {},
   "outputs": [],
   "source": [
    "PATH_D='/home/jupyter/GRANOGAN-IISC/src/saved_models/tanogan/wadi/dicriminator.pkl'\n",
    "PATH_G='/home/jupyter/GRANOGAN-IISC/src/saved_models/tanogan/wadi/generator.pkl'"
   ]
  },
  {
   "cell_type": "code",
   "execution_count": null,
   "id": "61232aff-1438-40f4-94b2-9e7957727353",
   "metadata": {},
   "outputs": [],
   "source": [
    "torch.save(trained_D.module.state_dict(), PATH_D)\n",
    "torch.save(trained_G.module.state_dict(), PATH_G)"
   ]
  },
  {
   "cell_type": "code",
   "execution_count": 50,
   "id": "391e9b11-3f83-46f8-87ca-c5029f4c7755",
   "metadata": {},
   "outputs": [],
   "source": [
    "state_dict = torch.load(PATH_D)\n",
    "trained_D=LSTMDiscriminator(in_dim=in_dim,device=device)\n",
    "trained_D=nn.DataParallel(trained_D)\n",
    "trained_D.to(device)\n",
    "trained_D=tanoGan.load_model(state_dict,trained_D)\n",
    "\n",
    "state_dict = torch.load(PATH_G)\n",
    "trained_G=LSTMGenerator(in_dim=in_dim, out_dim=in_dim,device=device)\n",
    "trained_G=nn.DataParallel(trained_G)\n",
    "trained_G.to(device)\n",
    "trained_G=tanoGan.load_model(state_dict,trained_G)"
   ]
  },
  {
   "cell_type": "markdown",
   "id": "d7580cb7-c160-4c84-938d-6a4fedae59df",
   "metadata": {},
   "source": [
    "<h4>Loading back the saved models</h4>"
   ]
  },
  {
   "cell_type": "code",
   "execution_count": 51,
   "id": "f14fe50e-d3a6-4cbe-b94a-9f1465e89dab",
   "metadata": {},
   "outputs": [],
   "source": [
    "tanoGan.intilialize_D(trained_D)\n",
    "tanoGan.intilialize_G(trained_G)"
   ]
  },
  {
   "cell_type": "markdown",
   "id": "5d5176a8-567b-4ef4-b319-eec33383ac82",
   "metadata": {},
   "source": [
    "<h2>Testing for anomaly</h2>\n"
   ]
  },
  {
   "cell_type": "code",
   "execution_count": 52,
   "id": "ca474614-182e-44b4-99eb-1830ca0b1ea6",
   "metadata": {},
   "outputs": [],
   "source": [
    "sequences,y_test_per_window = get_sub_seqs(x_test,y_test, seq_len=60, stride=60, start_discont=np.array([]))\n",
    "test_loader = DataLoader(dataset=sequences, batch_size=1,  num_workers=4,\n",
    "                                 shuffle=False)"
   ]
  },
  {
   "cell_type": "code",
   "execution_count": null,
   "id": "8321d539-5d9a-4ce8-a56b-ed7d9deb571c",
   "metadata": {},
   "outputs": [
    {
     "name": "stderr",
     "output_type": "stream",
     "text": [
      "/home/jupyter/src/algorithms/TanoGan.py:118: UserWarning: nn.init.normal is now deprecated in favor of nn.init.normal_.\n",
      "  z = Variable(init.normal(torch.zeros(batch_size,\n",
      "/libraries/Default_env_55311/lib/python3.8/site-packages/torch/nn/parallel/comm.py:231: UserWarning: Using -1 to represent CPU tensor is deprecated. Please use a device object or string instead, e.g., \"cpu\".\n",
      "  warnings.warn(\n"
     ]
    }
   ],
   "source": [
    "losses=tanoGan.predict_loss(test_loader)"
   ]
  },
  {
   "cell_type": "code",
   "execution_count": 58,
   "id": "0f90a27a-9e22-4e3b-941e-fbc88de7afc9",
   "metadata": {},
   "outputs": [],
   "source": [
    "import matplotlib.pyplot as plt\n",
    "import seaborn as sns"
   ]
  },
  {
   "cell_type": "code",
   "execution_count": 98,
   "id": "f98947ae-8a9c-46ee-90cb-ead26d5132f6",
   "metadata": {},
   "outputs": [
    {
     "data": {
      "image/png": "[encoded data removed]",
      "text/plain": [
       "<Figure size 432x288 with 1 Axes>"
      ]
     },
     "metadata": {
      "needs_background": "light"
     },
     "output_type": "display_data"
    }
   ],
   "source": [
    "THRESHOLD =7\n",
    "\n",
    "\n",
    "test_score_df = pd.DataFrame(index=range(len(losses)))\n",
    "test_score_df['loss'] = [loss.item()/60 for loss in losses]\n",
    "test_score_df['y'] = y_test_per_window\n",
    "test_score_df['threshold'] = THRESHOLD\n",
    "test_score_df['anomaly'] = test_score_df.loss > test_score_df.threshold\n",
    "#test_score_df['t'] = [x[59].item() for x in sequences]\n",
    "\n",
    "plt.plot( test_score_df.loss, label='loss')\n",
    "plt.plot( test_score_df.threshold, label='threshold')\n",
    "plt.plot( test_score_df.y, label='y')\n",
    "plt.xticks(rotation=25)\n",
    "plt.legend();"
   ]
  },
  {
   "cell_type": "code",
   "execution_count": 99,
   "id": "9d8ecd2e-d908-4720-a5a6-a74eb697bf13",
   "metadata": {},
   "outputs": [],
   "source": [
    "import numpy as np\n",
    "actual,predicted=improve_detection(test_score_df)"
   ]
  },
  {
   "cell_type": "code",
   "execution_count": 100,
   "id": "90273349-80c9-4b98-aea5-8226757c8da3",
   "metadata": {},
   "outputs": [
    {
     "name": "stdout",
     "output_type": "stream",
     "text": [
      "True Positive\t 29\n",
      "True Negative\t 2699\n",
      "False Positive\t 3\n",
      "False Negative\t 149\n",
      "Accuracy\t 0.9472222222222222\n",
      "Precision\t 0.90625\n",
      "Recall\t 0.16292134831460675\n",
      "f-measure\t 0.2761904761904762\n",
      "cohen_kappa_score\t 0.2622950819672131\n",
      "auc\t 0.5809055298197757\n",
      "roc_auc\t 0.5809055298197757\n"
     ]
    }
   ],
   "source": [
    "\n",
    "from sklearn.metrics import cohen_kappa_score\n",
    "from sklearn.metrics import roc_curve, auc, roc_auc_score\n",
    "\n",
    "predicted = np.array(predicted)\n",
    "actual = np.array(actual)\n",
    "\n",
    "print_scores(predicted,actual)"
   ]
  },
  {
   "cell_type": "code",
   "execution_count": null,
   "id": "85588eef-7d93-487c-bcdd-3c902cb18213",
   "metadata": {},
   "outputs": [],
   "source": []
  },
  {
   "cell_type": "code",
   "execution_count": null,
   "id": "f3b04c5a-a36b-4dd4-a49e-4a9b723b8c0c",
   "metadata": {},
   "outputs": [],
   "source": []
  }
 ],
 "metadata": {
  "kernelspec": {
   "display_name": "Default_env_55760",
   "language": "python",
   "name": "46016"
  },
  "language_info": {
   "codemirror_mode": {
    "name": "ipython",
    "version": 3
   },
   "file_extension": ".py",
   "mimetype": "text/x-python",
   "name": "python",
   "nbconvert_exporter": "python",
   "pygments_lexer": "ipython3",
   "version": "3.8.10"
  }
 },
 "nbformat": 4,
 "nbformat_minor": 5
}
